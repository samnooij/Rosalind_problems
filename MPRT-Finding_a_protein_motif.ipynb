{
 "cells": [
  {
   "cell_type": "markdown",
   "metadata": {},
   "source": [
    "# Finding a protein motif, from [Rosalind.info](https://www.rosalind.info)\n",
    "\n",
    "(Text copied from http://rosalind.info/problems/mprt/)\n",
    "\n",
    "\n",
    "<div class=\"problem-statement problem-statement-bordered\" problem=\"241\">\n",
    "    <blockquote>\n",
    "<h2 id=\"motif-implies-function\">Motif Implies Function</h2>\n",
    "<div class=\"thumb\"><a figure=\"Figure 1\" href=\"http://rosalind.info/media/problems/mprt/cyclophilines.png\" lightbox-title=\"The human cyclophilin family, as represented by the structures of the isomerase domains of some of its members.\" rel=\"lightbox[figures]\"><img src=\"/media/problems/mprt/cyclophilines.thumb.png\" /></a><div class=\"caption\"><strong>Figure 1</strong><span>. </span><span>The human cyclophilin family, as represented by the structures of the isomerase domains of some of its members.</span></div>\n",
    "</div>\n",
    "<p>As mentioned in <a data-content=\"Solved by 15945 (correct ratio 67.6%).\" data-trigger=\"hover\" href=\"/problems/prot/\" rel=\"popover\" title=\"“Translating RNA into Protein”\">“Translating RNA into Protein”</a>, <a class=\"term\" href=\"/glossary/protein/\" id=\"term-206\" rel=\"tooltip\" title=\"The functional unit of the cell.\">proteins</a> perform every practical function in the <a class=\"term\" href=\"/glossary/cell/\" id=\"term-257\" rel=\"tooltip\" title=\"\n",
    "The &quot;building block of life,&quot; making up all living things on Earth.\">cell</a>.\n",
    "A structural and functional unit of the protein is a <a class=\"term new\" href=\"/glossary/protein-domain/\" id=\"term-562\" rel=\"tooltip\" title=\"New term: \n",
    "A structural and functional unit of the protein.\">protein domain</a>: in terms of the protein's\n",
    "<a class=\"term\" href=\"/glossary/protein-primary-structure/\" id=\"term-570\" rel=\"tooltip\" title=\"\n",
    "The order of amino acids on a protein.\">primary structure</a>, the domain is an interval of amino acids that can evolve and\n",
    "function independently.</p>\n",
    "<p>Each domain usually corresponds to a single function of the protein (e.g., binding the protein to <a class=\"term\" href=\"/glossary/dna/\" id=\"term-545\" rel=\"tooltip\" title=\"\n",
    "The molecule encoding heredity and underlying the cellular processes of all life forms.\">DNA</a>, creating\n",
    "or breaking specific chemical bonds, etc.). Some proteins, such as myoglobin and the Cytochrome complex,\n",
    "have only one domain, but many proteins are multifunctional and therefore possess several domains.\n",
    "It is even possible to artificially fuse different domains into a protein molecule with definite properties,\n",
    "creating a <a class=\"term new\" href=\"/glossary/chimeric-protein/\" id=\"term-583\" rel=\"tooltip\" title=\"New term: \n",
    "A protein artificially constructed from several known domains.\">chimeric protein</a>.</p>\n",
    "<p>Just like species, proteins can evolve, forming <a class=\"term\" href=\"/glossary/homologous/\" id=\"term-324\" rel=\"tooltip\" title=\"\n",
    "Descending from the same ancestor.\">homologous</a> groups called <a class=\"term new\" href=\"/glossary/protein-family/\" id=\"term-586\" rel=\"tooltip\" title=\"New term: \n",
    "A group of homologous proteins.\">protein families</a>.\n",
    "Proteins from one family usually have the same set of domains, performing similar functions;\n",
    "see <a href=\"/media/problems/mprt/cyclophilines.png\" lightbox-title=\"The human cyclophilin family, as represented by the structures of the isomerase domains of some of its members.\" rel=\"lightbox[figures]\" title=\"Click to view\">Figure 1</a>.</p>\n",
    "<p>A component of a domain essential for its function is called a <a class=\"term\" href=\"/glossary/motif/\" id=\"term-241\" rel=\"tooltip\" title=\"\n",
    "A nucleotide or amino acid pattern of biological significance.\">motif</a>, a term that in general\n",
    "has the same meaning as it does in <a class=\"term\" href=\"/glossary/nucleic-acid/\" id=\"term-200\" rel=\"tooltip\" title=\"\n",
    "A polymer of nucleotides, constituting either RNA or DNA.\">nucleic acids</a>, although many other terms are also used\n",
    "(blocks, signatures, fingerprints, etc.) Usually protein motifs are evolutionarily conservative,\n",
    "meaning that they appear without much change in different species.</p>\n",
    "<p>Proteins are identified in different labs around the world and gathered into freely accessible databases.\n",
    "A central repository for protein data is <a href=\"http://www.uniprot.org/\" target=\"_blank\">UniProt</a>, which provides\n",
    "detailed protein annotation, including function description, domain structure, and post-translational modifications.\n",
    "UniProt also supports protein similarity search, taxonomy analysis, and literature citations.</p>\n",
    "</blockquote>\n",
    "<h2 id=\"problem\">Problem</h2>\n",
    "<p>To allow for the presence of its varying forms, a protein motif is represented by a shorthand as follows:\n",
    "[XY] means \"either X or Y\" and {X} means \"any amino acid except X.\"  For example, the N-glycosylation motif\n",
    "is written as N{P}[ST]{P}.</p>\n",
    "<p>You can see the complete description and features of a particular protein by its access ID\n",
    "\"uniprot_id\" in the UniProt database, by inserting the ID number into</p>\n",
    "<div class=\"codehilite\"><pre>http://www.uniprot.org/uniprot/uniprot_id\n",
    "</pre></div>\n",
    "\n",
    "<p>Alternatively, you can obtain a protein sequence in <a class=\"term\" href=\"/glossary/fasta-format/\" id=\"term-759\" rel=\"tooltip\" title=\"\n",
    "A text format used for naming genetic strings in databases.\">FASTA format</a> by following</p>\n",
    "<div class=\"codehilite\"><pre>http://www.uniprot.org/uniprot/uniprot_id.fasta\n",
    "</pre></div>\n",
    "\n",
    "\n",
    "<p>For example, the data for protein B5ZC00 can be found at <a href=\"http://www.uniprot.org/uniprot/B5ZC00\" target=\"_blank\"><a href=\"http://www.uniprot.org/uniprot/B5ZC00\" rel=\"nofollow\" target=\"_blank\"><a href=\"http://www.uniprot.org/uniprot/B5ZC00\" rel=\"nofollow\" target=\"_blank\">http://www.uniprot.org/uniprot/B5ZC00</a></a></a>.</p>\n",
    "<p><span class=\"given-return\">Given:</span> At most 15 UniProt Protein Database access IDs.</p>\n",
    "<p><span class=\"given-return\">Return:</span> For each protein possessing the N-glycosylation motif, output its given access ID followed\n",
    "by a list of <a class=\"term\" href=\"/glossary/location/\" id=\"term-382\" rel=\"tooltip\" title=\"\n",
    "The position in a string where a substring begins.\">locations</a> in the protein string where the motif can be found.</p>\n",
    "<h2 id=\"sample-dataset\">Sample Dataset</h2>\n",
    "<div class=\"codehilite\"><pre>A2Z669\n",
    "B5ZC00\n",
    "P07204_TRBM_HUMAN\n",
    "P20840_SAG1_YEAST\n",
    "</pre></div>\n",
    "\n",
    "\n",
    "<h2 id=\"sample-output\">Sample Output</h2>\n",
    "<div class=\"codehilite\"><pre>B5ZC00\n",
    "85 118 142 306 395\n",
    "P07204_TRBM_HUMAN\n",
    "47 115 116 382 409\n",
    "P20840_SAG1_YEAST\n",
    "79 109 135 248 306 348 364 402 485 501 614\n",
    "</pre></div>\n",
    "\n",
    "\n",
    "<blockquote>\n",
    "<h2 id=\"note\">Note</h2>\n",
    "<p>Some entries in UniProt have one primary (citable) accession number and some secondary numbers, appearing due to\n",
    "merging or demerging entries. In this problem, you may be given any type of ID.\n",
    "If you type the secondary ID into the UniProt query, then you will be automatically\n",
    "redirected to the page containing the primary ID.\n",
    "You can find more information about UniProt IDs <a href=\"http://www.uniprot.org/manual/accession_numbers\" target=\"_blank\">here</a>.</p>\n",
    "</blockquote>\n",
    "<div class=\"clearfix\"></div>\n",
    "</div>"
   ]
  },
  {
   "cell_type": "markdown",
   "metadata": {},
   "source": [
    "## My interpretation/reasoning\n",
    "\n",
    "1. In this exercise, I will combine two things:\n",
    "    1. Downloading protein sequences from a public database\n",
    "    2. Finding motifs in the sequences\n",
    "    \n",
    "2. The motif of interest is \"N, not-P, S-or-T, not-P\" so a 4-amino acid sequence.\n",
    "\n",
    "3. The results should be the protein ID of the protein that contains the motif, followed by a newline and all positions of the motif, separated by spaces.\n",
    "\n",
    "So practically, I want to make a script that:\n",
    "  - Opens and reads a text file with IDs\n",
    "  - For each ID, lookup the amino acid sequence\n",
    "  - Find any position that holds the motif N{P}[ST]{P}\n",
    "      - if there are none: pass\n",
    "      - if the motif is found: return the ID and the positions\n",
    "      \n",
    "Sounds pretty straightforward. Let's see how to get that into code."
   ]
  },
  {
   "cell_type": "code",
   "execution_count": 3,
   "metadata": {},
   "outputs": [],
   "source": [
    "def read_ids_from_file(input_file):\n",
    "    \"\"\"\n",
    "Given a text file with one ID per line, \n",
    "return a list of IDs.\n",
    "    \"\"\"\n",
    "    id_list = []\n",
    "    \n",
    "    with open(input_file, 'r') as read_file:\n",
    "        for line in read_file:\n",
    "            id_list.append(line.strip())\n",
    "            \n",
    "    return(id_list)"
   ]
  },
  {
   "cell_type": "code",
   "execution_count": 3,
   "metadata": {},
   "outputs": [
    {
     "name": "stdout",
     "output_type": "stream",
     "text": [
      "['A2Z669', 'B5ZC00', 'P07204_TRBM_HUMAN', 'P20840_SAG1_YEAST']\n"
     ]
    }
   ],
   "source": [
    "print(read_ids_from_file(\"data/Example_finding_a_protein_motif.txt\"))"
   ]
  },
  {
   "cell_type": "markdown",
   "metadata": {},
   "source": [
    "Then I want to download the fasta files belonging to these IDs, for which I can use the urllib module as suggested here: https://stackoverflow.com/questions/1393324/in-python-given-a-url-to-a-text-file-what-is-the-simplest-way-to-read-the-cont"
   ]
  },
  {
   "cell_type": "code",
   "execution_count": 6,
   "metadata": {},
   "outputs": [],
   "source": [
    "import urllib.request"
   ]
  },
  {
   "cell_type": "code",
   "execution_count": 5,
   "metadata": {},
   "outputs": [],
   "source": [
    "def fetch_uniprot_fasta(accession_id):\n",
    "    \"\"\"\n",
    "Given an accession ID from UniProt,\n",
    "download and return the corresponding fasta record\n",
    "as separate variables for ID and sequence.\n",
    "    \"\"\"\n",
    "    base_url = \"http://www.uniprot.org/uniprot/\"\n",
    "    \n",
    "    fasta_url = base_url + accession_id  + \".fasta\"\n",
    "    \n",
    "    sequence = \"\"\n",
    "    \n",
    "    for line in urllib.request.urlopen(fasta_url):\n",
    "        text = line.decode(\"utf-8\").strip()\n",
    "        \n",
    "        if text.startswith(\">\"):\n",
    "            fasta_id = text\n",
    "        else:\n",
    "            sequence += text\n",
    "        \n",
    "    return(fasta_id, sequence)"
   ]
  },
  {
   "cell_type": "code",
   "execution_count": 29,
   "metadata": {},
   "outputs": [
    {
     "data": {
      "text/plain": [
       "('>sp|A2Z669|CSPLT_ORYSI CASP-like protein 5A2 OS=Oryza sativa subsp. indica OX=39946 GN=OsI_33147 PE=3 SV=1',\n",
       " 'MRASRPVVHPVEAPPPAALAVAAAAVAVEAGVGAGGGAAAHGGENAQPRGVRMKDPPGAPGTPGGLGLRLVQAFFAAAALAVMASTDDFPSVSAFCYLVAAAILQCLWSLSLAVVDIYALLVKRSLRNPQAVCIFTIGDGITGTLTLGAACASAGITVLIGNDLNICANNHCASFETATAMAFISWFALAPSCVLNFWSMASR')"
      ]
     },
     "execution_count": 29,
     "metadata": {},
     "output_type": "execute_result"
    }
   ],
   "source": [
    "fetch_uniprot_fasta(\"A2Z669\")"
   ]
  },
  {
   "cell_type": "markdown",
   "metadata": {},
   "source": [
    "So this way you can just read and print a fasta file from the web. Can we also immediately parse it as fasta record?"
   ]
  },
  {
   "cell_type": "code",
   "execution_count": 30,
   "metadata": {},
   "outputs": [],
   "source": [
    "from Bio.Seq import Seq\n",
    "from Bio.SeqRecord import SeqRecord"
   ]
  },
  {
   "cell_type": "code",
   "execution_count": 31,
   "metadata": {},
   "outputs": [],
   "source": [
    "def create_seq_record(name, sequence):\n",
    "    \"\"\"\n",
    "Given a name and a sequence,\n",
    "create a Biopython SeqRecord object.\n",
    "    \"\"\"\n",
    "    sequence = Seq(sequence)\n",
    "    seq_record = SeqRecord(sequence)\n",
    "    seq_record.id = name\n",
    "    \n",
    "    return(seq_record)"
   ]
  },
  {
   "cell_type": "code",
   "execution_count": 34,
   "metadata": {},
   "outputs": [
    {
     "name": "stdout",
     "output_type": "stream",
     "text": [
      "ID: >sp|A2Z669|CSPLT_ORYSI CASP-like protein 5A2 OS=Oryza sativa subsp. indica OX=39946 GN=OsI_33147 PE=3 SV=1\n",
      "Name: <unknown name>\n",
      "Description: <unknown description>\n",
      "Number of features: 0\n",
      "Seq('MRASRPVVHPVEAPPPAALAVAAAAVAVEAGVGAGGGAAAHGGENAQPRGVRMK...ASR')\n"
     ]
    }
   ],
   "source": [
    "(name, sequence) = fetch_uniprot_fasta(\"A2Z669\")\n",
    "\n",
    "print(create_seq_record(name, sequence))"
   ]
  },
  {
   "cell_type": "markdown",
   "metadata": {},
   "source": [
    "This is not strictly necessary, but I thought it was nice to have. \n",
    "Let's just continue with looking for motifs in the sequences."
   ]
  },
  {
   "cell_type": "code",
   "execution_count": 8,
   "metadata": {},
   "outputs": [],
   "source": [
    "import regex"
   ]
  },
  {
   "cell_type": "code",
   "execution_count": 72,
   "metadata": {},
   "outputs": [],
   "source": [
    "def search_motif_positions(sequence, motif):\n",
    "    \"\"\"\n",
    "Search a sequence for a given motif (as regex),\n",
    "and return position as list. Return False if the motif\n",
    "is absent from the sequence.\n",
    "    \"\"\"\n",
    "    positions = [m.start() + 1 for m in regex.finditer(\n",
    "        r\"%s\" % motif, sequence)]\n",
    "    #Method thanks to moinudin: https://stackoverflow.com/a/4664889\n",
    "    \n",
    "    if len(positions) > 0:\n",
    "        return(positions)\n",
    "    else:\n",
    "        return(False)"
   ]
  },
  {
   "cell_type": "markdown",
   "metadata": {},
   "source": [
    "The regex of the motif should be: \"N[^P][S|T][^P]\""
   ]
  },
  {
   "cell_type": "code",
   "execution_count": 73,
   "metadata": {},
   "outputs": [
    {
     "name": "stdout",
     "output_type": "stream",
     "text": [
      "False\n"
     ]
    }
   ],
   "source": [
    "print(search_motif_positions(sequence, \"N[^P][S|T][^P]\"))"
   ]
  },
  {
   "cell_type": "code",
   "execution_count": 64,
   "metadata": {},
   "outputs": [
    {
     "data": {
      "text/plain": [
       "['NFSD', 'NSSN', 'NWTE', 'NLSK', 'NISA']"
      ]
     },
     "execution_count": 64,
     "metadata": {},
     "output_type": "execute_result"
    }
   ],
   "source": [
    "regex.findall(r\"N[^P][S|T][^P]\", \"MKNKFKTQEELVNHLKTVGFVFANSEIYNGLANAWDYGPLGVLLKNNLKNLWWKEFVTKQKDVVGLDSAIILNPLVWKASGHLDNFSDPLIDCKNCKARYRADKLIESFDENIHIAENSSNEEFAKVLNDYEISCPTCKQFNWTEIRHFNLMFKTYQGVIEDAKNVVYLRPETAQGIFVNFKNVQRSMRLHLPFGIAQIGKSFRNEITPGNFIFRTREFEQMEIEFFLKEESAYDIFDKYLNQIENWLVSACGLSLNNLRKHEHPKEELSHYSKKTIDFEYNFLHGFSELYGIAYRTNYDLSVHMNLSKKDLTYFDEQTKEKYVPHVIEPSVGVERLLYAILTEATFIEKLENDDERILMDLKYDLAPYKIAVMPLVNKLKDKAEEIYGKILDLNISATFDNSGSIGKRYRRQDAIGTIYCLTIDFDSLDDQQDPSFTIRERNSMAQKRIKLSELPLYLNQKAHEDFQRQCQK\")"
   ]
  },
  {
   "cell_type": "code",
   "execution_count": null,
   "metadata": {},
   "outputs": [],
   "source": []
  },
  {
   "cell_type": "code",
   "execution_count": 82,
   "metadata": {},
   "outputs": [],
   "source": [
    "def find_a_protein_motif(input_file):\n",
    "    \"\"\"\n",
    "The complete program:\n",
    " - read a file with accession IDs\n",
    " - parse the associated amino acid sequences\n",
    " - look for the motif\n",
    " - if the motif exists:\n",
    "   - print accession ID and (start) positions\n",
    "    \"\"\"\n",
    "    motif = \"N[^P][S|T][^P]\"\n",
    "    \n",
    "    accession_ids = read_ids_from_file(input_file)\n",
    "    \n",
    "    for accession_id in accession_ids:\n",
    "        (fasta_id, sequence) = fetch_uniprot_fasta(accession_id)\n",
    "        \n",
    "        if search_motif_positions(sequence, motif):\n",
    "            print(\"%s\\n%s\" % (accession_id, \" \".join(map(str, search_motif_positions(sequence, motif)))))\n",
    "        else:\n",
    "            pass\n",
    "        \n",
    "    return(None)"
   ]
  },
  {
   "cell_type": "code",
   "execution_count": 83,
   "metadata": {},
   "outputs": [
    {
     "name": "stdout",
     "output_type": "stream",
     "text": [
      "B5ZC00\n",
      "85 118 142 306 395\n",
      "P07204_TRBM_HUMAN\n",
      "47 115 382 409\n",
      "P20840_SAG1_YEAST\n",
      "79 109 135 248 306 348 364 402 485 501 614\n"
     ]
    }
   ],
   "source": [
    "find_a_protein_motif(\"data/Example_finding_a_protein_motif.txt\")"
   ]
  },
  {
   "cell_type": "markdown",
   "metadata": {},
   "source": [
    "Now that seems to be working. Let's see if it works on the real deal:"
   ]
  },
  {
   "cell_type": "code",
   "execution_count": 84,
   "metadata": {},
   "outputs": [
    {
     "name": "stdout",
     "output_type": "stream",
     "text": [
      "P02760_HC_HUMAN\n",
      "36 115 250\n",
      "P13838_LEUK_RAT\n",
      "274 300\n",
      "P01047_KNL2_BOVIN\n",
      "47 87 168 197 204 280\n",
      "P81824_PABJ_BOTJA\n",
      "25\n",
      "Q78PG9\n",
      "11 194 202\n",
      "P03415_VME1_CVMA5\n",
      "27\n",
      "P04141_CSF2_HUMAN\n",
      "44 54\n",
      "Q6A9W5\n",
      "8 220 394\n",
      "P13671_CO6_HUMAN\n",
      "324 855\n",
      "Q924A4\n",
      "74\n"
     ]
    }
   ],
   "source": [
    "find_a_protein_motif(\"data/rosalind_mprt.txt\")"
   ]
  },
  {
   "cell_type": "markdown",
   "metadata": {},
   "source": [
    "Apparently this was the wrong answer, unfortunately. Where could the error be?\n",
    "\n",
    "What if I just try it again? Maybe it was just this set for whatever reason."
   ]
  },
  {
   "cell_type": "code",
   "execution_count": 85,
   "metadata": {},
   "outputs": [
    {
     "name": "stdout",
     "output_type": "stream",
     "text": [
      "Q68J42\n",
      "198 243\n",
      "P07987_GUX2_TRIRE\n",
      "38 313 334\n",
      "P00750_UROT_HUMAN\n",
      "152 219 483\n",
      "P00749_UROK_HUMAN\n",
      "322\n",
      "P10761_ZP3_MOUSE\n",
      "146 273 304 327\n",
      "P22457_FA7_BOVIN\n",
      "185 243\n",
      "Q1E9Q9\n",
      "185 255 347 640 1326\n",
      "P05155_IC1_HUMAN\n",
      "25 69 81 238 253 352\n",
      "P13838_LEUK_RAT\n",
      "274 300\n",
      "P01589_IL2A_HUMAN\n",
      "70 89\n",
      "A4J5V5\n",
      "24 38 230\n",
      "P02974_FMM1_NEIGO\n",
      "67 121\n",
      "P80370_DLK_HUMAN\n",
      "100\n"
     ]
    }
   ],
   "source": [
    "find_a_protein_motif(\"data/rosalind_mprt2.txt\")"
   ]
  },
  {
   "cell_type": "markdown",
   "metadata": {},
   "source": [
    "No, that didn't do it. Then I have to find something else...\n",
    "\n",
    "Let's make a test version to debug the problem. A function that shows all IDs, sequences, motifs, positions to help check if it all looks right."
   ]
  },
  {
   "cell_type": "code",
   "execution_count": 1,
   "metadata": {},
   "outputs": [],
   "source": [
    "def find_a_protein_motif_debug(input_file):\n",
    "    \"\"\"\n",
    "The complete program:\n",
    " - read a file with accession IDs\n",
    " - parse the associated amino acid sequences\n",
    " - look for the motif\n",
    " - if the motif exists:\n",
    "   - print accession ID and (start) positions\n",
    "    \"\"\"\n",
    "    motif = \"N[^P][S|T][^P]\"\n",
    "    \n",
    "    accession_ids = read_ids_from_file(input_file)\n",
    "    \n",
    "    for accession_id in accession_ids:\n",
    "        print(\"ID: %s\" % accession_id)\n",
    "        (fasta_id, sequence) = fetch_uniprot_fasta(accession_id)\n",
    "        \n",
    "        print(\"Fasta ID: %s\\nSequence: %s\" % (fasta_id, sequence))\n",
    "        \n",
    "        search_motif_positions_debug(sequence, motif)\n",
    "        \n",
    "    return(None)\n",
    "\n",
    "def search_motif_positions_debug(sequence, motif):\n",
    "    \"\"\"\n",
    "Search a sequence for a given motif (as regex),\n",
    "and return position as list. Return False if the motif\n",
    "is absent from the sequence.\n",
    "    \"\"\"\n",
    "    \n",
    "    print(\"Found motifs: %s\" % regex.findall(r\"%s\" % motif, sequence))\n",
    "    \n",
    "    positions = [m.start() + 1 for m in regex.finditer(\n",
    "        r\"%s\" % motif, sequence)]\n",
    "    #Method thanks to moinudin: https://stackoverflow.com/a/4664889\n",
    "    \n",
    "    print(\"Motif positions: %s\" % positions)\n",
    "    \n",
    "    if len(positions) > 0:\n",
    "        return(positions)\n",
    "    else:\n",
    "        return(False)"
   ]
  },
  {
   "cell_type": "code",
   "execution_count": 9,
   "metadata": {},
   "outputs": [
    {
     "name": "stdout",
     "output_type": "stream",
     "text": [
      "ID: A1USX4\n",
      "Fasta ID: >sp|A1USX4|NUOH_BARBK NADH-quinone oxidoreductase subunit H OS=Bartonella bacilliformis (strain ATCC 35685 / NCTC 12138 / KC583) OX=360095 GN=nuoH PE=3 SV=1\n",
      "Sequence: MDNFFMTWLLPLFIVVGKTLLLLTVLLVLIAYLLYADRKIWAAVQLRRGPNVVGPWGLLQSFADLIKFVVKEPIIPSGANKGVFLLAPFVSATLALSAWAVVPVNEGWEIASINVGLLYILAISSLEVYGVIMGGWASNSKYPFLGALRSAAQMVSYEVSIGFVLVTVILVSGSLDLTTIVQEQNKGLGTYLGLPFSSLLDWNWLILFPMFIIFFISALAETNRPPFDLVEAESELVAGHMVEYSSTPYMLFFLGEYVAIVLMCALTTILFLGGWLPPLDVWWLNWVPGVIWFVLKVCFVFFWFAMVKAFVPRYRYDQLMRLGWKVFLPISLAMVVITAAILKYTSFA\n",
      "Found motifs: []\n",
      "Motif positions: []\n",
      "ID: P02760_HC_HUMAN\n",
      "Fasta ID: >sp|P02760|AMBP_HUMAN Protein AMBP OS=Homo sapiens OX=9606 GN=AMBP PE=1 SV=1\n",
      "Sequence: MRSLGALLLLLSACLAVSAGPVPTPPDNIQVQENFNISRIYGKWYNLAIGSTCPWLKKIMDRMTVSTLVLGEGATEAEISMTSTRWRKGVCEETSGAYEKTDTDGKFLYHKSKWNITMESYVVHTNYDEYAIFLTKKFSRHHGPTITAKLYGRAPQLRETLLQDFRVVAQGVGIPEDSIFTMADRGECVPGEQEPEPILIPRVRRAVLPQEEEGSGGGQLVTEVTKKEDSCQLGYSAGPCMGMTSRYFYNGTSMACETFQYGGCMGNGNNFVTEKECLQTCRTVAACNLPIVRGPCRAFIQLWAFDAVKGKCVLFPYGGCQGNGNKFYSEKECREYCGVPGDGDEELLRFSN\n",
      "Found motifs: ['NISR', 'NITM', 'NGTS']\n",
      "Motif positions: [36, 115, 250]\n",
      "ID: Q5PA87\n",
      "Fasta ID: >sp|Q5PA87|RL34_ANAMM 50S ribosomal protein L34 OS=Anaplasma marginale (strain St. Maries) OX=234826 GN=rpmH PE=3 SV=1\n",
      "Sequence: MKRTFQPSRIVRKRRHGFRARMSTRWGRKILNRRRAKGRCLLCA\n",
      "Found motifs: []\n",
      "Motif positions: []\n",
      "ID: P13838_LEUK_RAT\n",
      "Fasta ID: >sp|P13838|LEUK_RAT Leukosialin (Fragment) OS=Rattus norvegicus OX=10116 GN=Spn PE=1 SV=1\n",
      "Sequence: WAQVVSQENLPNTMTMLPFTPNSESPSTSEALSTYSSIATVPVTEDPKESISPWGQTTAPASSIPLGTPELSSFFFTSAGASGNTPVPELTTSQEVSTEASLVLFPKSSGVASDPPVTITNPATSSAVASTSLETFKGTSAPPVTVTSSTMTSGPFVATTVSSETSGPPVTMATGSLGPSKETHGLSATIATSSGESSSVAGGTPVFSTKISTTSTPNPITTVPPRPGSSGMLLVSMLIALTVVLVLVALLLLWRQRQKRRTGALTLSRGGKRNGTVDAWAGPARVPDEEATTASGSGGNKSSGAPETDGSGQRPTLTTFFSRRKSRQGSVALEELKPGTGPNLKGEEEPLVGSEDEAVETPTSDGPQAKDGAAPQSL\n",
      "Found motifs: ['NGTV', 'NKSS']\n",
      "Motif positions: [274, 300]\n",
      "ID: P01047_KNL2_BOVIN\n",
      "Fasta ID: >sp|P01045|KNG2_BOVIN Kininogen-2 OS=Bos taurus OX=9913 GN=KNG2 PE=1 SV=1\n",
      "Sequence: MKLITILFLCSRLLPSLTQESSQEIDCNDQDVFKAVDAALTKYNSENKSGNQFVLYRITEVARMDNPDTFYSLKYQIKEGDCPFQSNKTWQDCDYKDSAQAATGQCTATVAKRGNMKFSVAIQTCLITPAEGPVVTAQYECLGCVHPISTKSPDLEPVLRYAIQYFNNNTSHSHLFDLKEVKRAQKQVVSGWNYEVNYSIAQTNCSKEEFSFLTPDCKSLSSGDTGECTDKAHVDVKLRISSFSQKCDLYPGEDFLPPMVCVGCPKPIPVDSPDLEEALNHSIAKLNAEHDGTFYFKIDTVKKATVQVVGGLKYSIVFIARETTCSKGSNEELTKSCEINIHGQILHCDANVYVVPWEEKVYPTVNCQPLGQTSLMKRPPGFSPFRSVQVMKTEGSTTVSLPHSAMSPVQDEERDSGKEQGPTHGHGWDHGKQIKLHGLGLGHKHKHDQGHGHHRSHGLGHGHQKQHGLGHGHKHGHGHGKHKNKGKNNGKHYDWRTPYLASSYEDSTTSSAQTQEKTEETTLSSLAQPGVAITFPDFQDSDLIATVMPNTLPPHTESDDDWIPDIQTEPNSLAFKLISDFPETTSPKCPSRPWKPVNGVNPTVEMKESHDFDLVDALL\n",
      "Found motifs: ['NKSG', 'NKTW', 'NNTS', 'NYSI', 'NCSK', 'NHSI']\n",
      "Motif positions: [47, 87, 168, 197, 204, 280]\n",
      "ID: P81824_PABJ_BOTJA\n",
      "Fasta ID: >sp|P81824|VSP1_BOTJA Platelet-aggregating proteinase PA-BJ (Fragment) OS=Bothrops jararaca OX=8724 PE=1 SV=2\n",
      "Sequence: NSLVIVVGGRPCKINVHRSLVLLYNSSSLLCSGTLINQEWVLTAAHCDSKNFKMKLGVHSIKIRNKNERTRHPKEKFICPNRKKDDVLDKDIMLIRLNRPVSNSEHIAPLSLPSSPPSVGSVCYVMGWGKISSTKETYPDVPHCAKINILDHAVCRAAYTWWPATSTTLCAGILQGGKDTCEGDSGGPLICNGLQGIVSGGGNPCGQPRKPALYTKVFDYLPWIESIIAGTTTATCP\n",
      "Found motifs: ['NSSS']\n",
      "Motif positions: [25]\n",
      "ID: Q78PG9\n",
      "Fasta ID: >sp|Q78PG9|CCD25_MOUSE Coiled-coil domain-containing protein 25 OS=Mus musculus OX=10090 GN=Ccdc25 PE=1 SV=1\n",
      "Sequence: MVFYFTSSSVNSSTYTIYMGKDKYENEDLIKYGWPEDIWFHVDKLSSAHVYLRLQKGEKIEDIPKEVLMDCAHLVKANSIQGCKMNNVNVVYTPWSNLKKTADMDVGQIGFHRQKDVKIVTVEKKVNEILNRLEKTKLEKFPDLAAEKEGRDREERNEKKAQIQEMKRKEKEEMKKKREMDELRSYSSLMKVENMSSNQDGNDSDEFM\n",
      "Found motifs: ['NSST', 'NMSS', 'NDSD']\n",
      "Motif positions: [11, 194, 202]\n",
      "ID: P03415_VME1_CVMA5\n",
      "Fasta ID: >sp|P03415|VME1_CVMA5 Membrane protein OS=Murine coronavirus (strain A59) OX=11142 GN=M PE=1 SV=1\n",
      "Sequence: MSSTTQAPEPVYQWTADEAVQFLKEWNFSLGIILLFITIILQFGYTSRSMFIYVVKMIILWLMWPLTIVLCIFNCVYALNNVYLGFSIVFTIVSIVIWIMYFVNSIRLFIRTGSWWSFNPETNNLMCIDMKGTVYVRPIIEDYHTLTATIIRGHLYMQGVKLGTGFSLSDLPAYVTVAKVSHLCTYKRAFLDKVDGVSGFAVYVKSKVGNYRLPSNKPSGADTALLRI\n",
      "Found motifs: ['NFSL']\n",
      "Motif positions: [27]\n",
      "ID: Q8ZRE7\n",
      "Fasta ID: >sp|Q8ZRE7|PPNP_SALTY Pyrimidine/purine nucleoside phosphorylase OS=Salmonella typhimurium (strain LT2 / SGSC1412 / ATCC 700720) OX=99287 GN=ppnP PE=3 SV=1\n",
      "Sequence: MLQSNEYFSGKVKSIGFTSSSTGRASVGVMAEGEYTFGTAEPEEMTVVSGALKVLLPGTVEWKVYTAGEVFNVPGHSEFHLQVAEPASYLCRYL\n",
      "Found motifs: []\n",
      "Motif positions: []\n",
      "ID: P04141_CSF2_HUMAN\n",
      "Fasta ID: >sp|P04141|CSF2_HUMAN Granulocyte-macrophage colony-stimulating factor OS=Homo sapiens OX=9606 GN=CSF2 PE=1 SV=1\n",
      "Sequence: MWLQSLLLLGTVACSISAPARSPSPSTQPWEHVNAIQEARRLLNLSRDTAAEMNETVEVISEMFDLQEPTCLQTRLELYKQGLRGSLTKLKGPLTMMASHYKQHCPPTPETSCATQIITFESFKENLKDFLLVIPFDCWEPVQE\n",
      "Found motifs: ['NLSR', 'NETV']\n",
      "Motif positions: [44, 54]\n",
      "ID: Q6A9W5\n",
      "Fasta ID: >sp|Q6A9W5|AMPA_CUTAK Probable cytosol aminopeptidase OS=Cutibacterium acnes (strain DSM 16379 / KPA171202) OX=267747 GN=pepA PE=3 SV=2\n",
      "Sequence: MRGILVANSTQLPIRPRPDLKVSRNANGADVVIAGLVEGSQGPTVQGLAPRAVKEAEETFGAPLVEVAIRAGGSTKIGSTVVLPWFGNSLVLVGCGAEGFDGESLRKAAGSGARAAADLSHGSSLKVAVDMGTVSAEQVRIAAEGALLGCYKVPTITATSNEPEISTVTIVSNARGAKPELNKARILADAVYTARDWVDAPANLLYPKTFAASVQSWCNNLSDVTVDVLDEKALGRGGFGGILAVGGGSAHSPRLVRVEYAPEGSTTTLALVGKGITFDSGGLNIKTAANMYTMKCDMGGAAAVLAAIGAIARLGLNVRVVAYGCLAENMPSGSGWRPSDVVTMYDGTTVENGNSDAEGRIVMADGLARACEDNPDFIVDISTLTGACMVALGNHTAGVMTSGAQAADTLLDASEAAGEDFWELPITDEVREGLHSDIADVKSSGAREGGAMLAAAFLQRFVTPGIDWAHLDIAGPAYNEASAHDYTPIQGTGFGVRTLVQLAAHMAG\n",
      "Found motifs: ['NSTQ', 'NLSD', 'NHTA']\n",
      "Motif positions: [8, 220, 394]\n",
      "ID: Q8WW18\n",
      "Fasta ID: >sp|Q8WW18|CQ050_HUMAN Uncharacterized protein C17orf50 OS=Homo sapiens OX=9606 GN=C17orf50 PE=1 SV=2\n",
      "Sequence: MDKHGVKTPLWKKETEELRAEDAEQEEGKEGSEDEDEDNQRPLEDSATEGEEPPRVAEEGEGRERRSVSYCPLRQESSTQQVALLRRADSGFWGWLGPLALLGGLTAPTDRKRSLPEEPCVLEIRRRPPRRGGCACCELLFCKKCRSLHSHPAYVAHCVLDHPDLGKAGAAGNS\n",
      "Found motifs: []\n",
      "Motif positions: []\n",
      "ID: Q9CE42\n",
      "Fasta ID: >sp|Q9CE42|MSRA2_LACLA Peptide methionine sulfoxide reductase MsrA 2 OS=Lactococcus lactis subsp. lactis (strain IL1403) OX=272623 GN=msrA2 PE=3 SV=1\n",
      "Sequence: MATERAIFAGGCFWCMVQPFEEREGILSVISGYTGGNVENPTYEQVKKHLTGHTEAVEIIFDNSKITYQSLVELYWTLTDPTDAFGQFEDRGDNYRPVIFVENEEQEKIAKESKAQLQASGNFDSPIVTSIETVQKFWPAEDYHQGFYKKNPEDYAQSSKIRHDFLEKQWKK\n",
      "Found motifs: []\n",
      "Motif positions: []\n",
      "ID: P13671_CO6_HUMAN\n",
      "Fasta ID: >sp|P13671|CO6_HUMAN Complement component C6 OS=Homo sapiens OX=9606 GN=C6 PE=1 SV=3\n",
      "Sequence: MARRSVLYFILLNALINKGQACFCDHYAWTQWTSCSKTCNSGTQSRHRQIVVDKYYQENFCEQICSKQETRECNWQRCPINCLLGDFGPWSDCDPCIEKQSKVRSVLRPSQFGGQPCTAPLVAFQPCIPSKLCKIEEADCKNKFRCDSGRCIARKLECNGENDCGDNSDERDCGRTKAVCTRKYNPIPSVQLMGNGFHFLAGEPRGEVLDNSFTGGICKTVKSSRTSNPYRVPANLENVGFEVQTAEDDLKTDFYKDLTSLGHNENQQGSFSSQGGSSFSVPIFYSSKRSENINHNSAFKQAIQASHKKDSSFIRIHKVMKVLNFTTKAKDLHLSDVFLKALNHLPLEYNSALYSRIFDDFGTHYFTSGSLGGVYDLLYQFSSEELKNSGLTEEEAKHCVRIETKKRVLFAKKTKVEHRCTTNKLSEKHEGSFIQGAEKSISLIRGGRSEYGAALAWEKGSSGLEEKTFSEWLESVKENPAVIDFELAPIVDLVRNIPCAVTKRNNLRKALQEYAAKFDPCQCAPCPNNGRPTLSGTECLCVCQSGTYGENCEKQSPDYKSNAVDGQWGCWSSWSTCDATYKRSRTRECNNPAPQRGGKRCEGEKRQEEDCTFSIMENNGQPCINDDEEMKEVDLPEIEADSGCPQPVPPENGFIRNEKQLYLVGEDVEISCLTGFETVGYQYFRCLPDGTWRQGDVECQRTECIKPVVQEVLTITPFQRLYRIGESIELTCPKGFVVAGPSRYTCQGNSWTPPISNSLTCEKDTLTKLKGHCQLGQKQSGSECICMSPEEDCSHHSEDLCVFDTDSNDYFTSPACKFLAEKCLNNQQLHFLHIGSCQDGRQLEWGLERTRLSSNSTKKESCGYDTCYDWEKCSASTSKCVCLLPPQCFKGGNQLYCVKMGSSTSEKTLNICEVGTIRCANRKMEILHPGKCLA\n",
      "Found motifs: ['NFTT', 'NSTK']\n",
      "Motif positions: [324, 855]\n",
      "ID: Q924A4\n",
      "Fasta ID: >sp|Q924A4|UCN3_MOUSE Urocortin-3 OS=Mus musculus OX=10090 GN=Ucn3 PE=2 SV=1\n",
      "Sequence: MLMPTYFLLPLLLLLGGPRTSLSHKFYNTGPVFSCLNTALSEVKKNKLEDVPLLSKKSFGHLPTQDPSGEEDDNQTHLQIKRTFSGAAGGNGAGSTRYRYQSQAQHKGKLYPDKPKSDRGTKFTLSLDVPTNIMNILFNIDKAKNLRAKAAANAQLMAQIGKKK\n",
      "Found motifs: ['NQTH']\n",
      "Motif positions: [74]\n"
     ]
    }
   ],
   "source": [
    "find_a_protein_motif_debug(\"data/rosalind_mprt.txt\")"
   ]
  },
  {
   "cell_type": "markdown",
   "metadata": {},
   "source": [
    "When looking back at the example sequences, I found the problem! Consider these example answers:\n",
    "\n",
    "**By Rosalind**\n",
    "```\n",
    "B5ZC00\n",
    "85 118 142 306 395\n",
    "P07204_TRBM_HUMAN\n",
    "47 115 116 382 409\n",
    "P20840_SAG1_YEAST\n",
    "79 109 135 248 306 348 364 402 485 501 614\n",
    "```\n",
    "\n",
    "**By my function**\n",
    "```\n",
    "B5ZC00\n",
    "85 118 142 306 395\n",
    "P07204_TRBM_HUMAN\n",
    "47 115 382 409\n",
    "P20840_SAG1_YEAST\n",
    "79 109 135 248 306 348 364 402 485 501 614\n",
    "```\n",
    "\n",
    "And look carefully at the list of positions given for \"P07204_TRBM_HUMAN\"...\n",
    "\n",
    "... see it yet?\n",
    "\n",
    "The answer is...\n",
    "\n",
    "`116` is missing from my function's output! It does not list overlapping matches. \n",
    "So I need to find a regex function that matches all overlapping matches too!\n",
    "\n",
    "Perhaps take another look at: https://stackoverflow.com/a/18966891?"
   ]
  },
  {
   "cell_type": "code",
   "execution_count": 21,
   "metadata": {},
   "outputs": [
    {
     "name": "stdout",
     "output_type": "stream",
     "text": [
      "['NASQ', 'NNTS', 'NTSY', 'NQTS', 'NQTA']\n",
      "[47, 115, 116, 382, 409]\n"
     ]
    }
   ],
   "source": [
    "#Let's take this sequence specifically and see how to fix my problem there!\n",
    "\n",
    "test_id = \">sp|P07204|TRBM_HUMAN Thrombomodulin OS=Homo sapiens OX=9606 GN=THBD PE=1 SV=2\"\n",
    "\n",
    "test_sequence = \"MLGVLVLGALALAGLGFPAPAEPQPGGSQCVEHDCFALYPGPATFLNASQICDGLRGHLMTVRSSVAADVISLLLNGDGGVGRRRLWIGLQLPPGCGDPKRLGPLRGFQWVTGDNNTSYSRWARLDLNGAPLCGPLCVAVSAAEATVPSEPIWEEQQCEVKADGFLCEFHFPATCRPLAVEPGAAAAAVSITYGTPFAARGADFQALPVGSSAAVAPLGLQLMCTAPPGAVQGHWAREAPGAWDCSVENGGCEHACNAIPGAPRCQCPAGAALQADGRSCTASATQSCNDLCEHFCVPNPDQPGSYSCMCETGYRLAADQHRCEDVDDCILEPSPCPQRCVNTQGGFECHCYPNYDLVDGECVEPVDPCFRANCEYQCQPLNQTSYLCVCAEGFAPIPHEPHRCQMFCNQTACPADCDPNTQASCECPEGYILDDGFICTDIDECENGGFCSGVCHNLPGTFECICGPDSALARHIGTDCDSGKVDGGDSGSGEPPPSPTPGSTLTPPAVGLVHSGLLIGISIASLCLVVALLALLCHLRKKQGAARAKMEYKCAAPSKEVVLQHVRTERTPQRL\"\n",
    "\n",
    "test_matches = regex.findall(r\"N[^P][S|T][^P]\", test_sequence, overlapped=True)\n",
    "\n",
    "print([match for match in test_matches])\n",
    "\n",
    "test_iters = regex.finditer(r\"N[^P][S|T][^P]\", test_sequence, overlapped=True)\n",
    "\n",
    "print([match.start() + 1 for match in test_iters])"
   ]
  },
  {
   "cell_type": "markdown",
   "metadata": {},
   "source": [
    "It looks like I was missing only the `overlapped=True` part. If I add that, I should be good."
   ]
  },
  {
   "cell_type": "code",
   "execution_count": 22,
   "metadata": {},
   "outputs": [],
   "source": [
    "def search_motif_positions2(sequence, motif):\n",
    "    \"\"\"\n",
    "Search a sequence for a given motif (as regex),\n",
    "and return position as list. Return False if the motif\n",
    "is absent from the sequence.\n",
    "    \"\"\"\n",
    "    positions = [m.start() + 1 for m in regex.finditer(\n",
    "        r\"%s\" % motif, sequence, overlapped = True)]\n",
    "    #Method thanks to moinudin: https://stackoverflow.com/a/4664889\n",
    "    \n",
    "    if len(positions) > 0:\n",
    "        return(positions)\n",
    "    else:\n",
    "        return(False)"
   ]
  },
  {
   "cell_type": "code",
   "execution_count": 23,
   "metadata": {},
   "outputs": [],
   "source": [
    "def find_a_protein_motif2(input_file):\n",
    "    \"\"\"\n",
    "The complete program:\n",
    " - read a file with accession IDs\n",
    " - parse the associated amino acid sequences\n",
    " - look for the motif\n",
    " - if the motif exists:\n",
    "   - print accession ID and (start) positions\n",
    "    \"\"\"\n",
    "    motif = \"N[^P][S|T][^P]\"\n",
    "    \n",
    "    accession_ids = read_ids_from_file(input_file)\n",
    "    \n",
    "    for accession_id in accession_ids:\n",
    "        (fasta_id, sequence) = fetch_uniprot_fasta(accession_id)\n",
    "        \n",
    "        if search_motif_positions2(sequence, motif):\n",
    "            print(\"%s\\n%s\" % (accession_id, \" \".join(map(str, search_motif_positions2(sequence, motif)))))\n",
    "        else:\n",
    "            pass\n",
    "        \n",
    "    return(None)"
   ]
  },
  {
   "cell_type": "markdown",
   "metadata": {},
   "source": [
    "So now these should give different results than before if I use the same input files. Let's see how that goes."
   ]
  },
  {
   "cell_type": "code",
   "execution_count": 24,
   "metadata": {},
   "outputs": [
    {
     "name": "stdout",
     "output_type": "stream",
     "text": [
      "B5ZC00\n",
      "85 118 142 306 395\n",
      "P07204_TRBM_HUMAN\n",
      "47 115 116 382 409\n",
      "P20840_SAG1_YEAST\n",
      "79 109 135 248 306 348 364 402 485 501 614\n"
     ]
    }
   ],
   "source": [
    "find_a_protein_motif2(\"data/Example_finding_a_protein_motif.txt\")"
   ]
  },
  {
   "cell_type": "markdown",
   "metadata": {},
   "source": [
    "So far so good..."
   ]
  },
  {
   "cell_type": "code",
   "execution_count": 25,
   "metadata": {},
   "outputs": [
    {
     "name": "stdout",
     "output_type": "stream",
     "text": [
      "P02760_HC_HUMAN\n",
      "36 115 250\n",
      "P13838_LEUK_RAT\n",
      "274 300\n",
      "P01047_KNL2_BOVIN\n",
      "47 87 168 169 197 204 280\n",
      "P81824_PABJ_BOTJA\n",
      "25\n",
      "Q78PG9\n",
      "11 194 202\n",
      "P03415_VME1_CVMA5\n",
      "27\n",
      "P04141_CSF2_HUMAN\n",
      "44 54\n",
      "Q6A9W5\n",
      "8 220 394\n",
      "P13671_CO6_HUMAN\n",
      "324 855\n",
      "Q924A4\n",
      "74\n"
     ]
    }
   ],
   "source": [
    "find_a_protein_motif2(\"data/rosalind_mprt.txt\")"
   ]
  },
  {
   "cell_type": "markdown",
   "metadata": {},
   "source": [
    "Indeed there is a minor difference here! Look at the positions `168` and `169` for `P01047_KNL2_BOVIN`."
   ]
  },
  {
   "cell_type": "code",
   "execution_count": 26,
   "metadata": {},
   "outputs": [
    {
     "name": "stdout",
     "output_type": "stream",
     "text": [
      "Q68J42\n",
      "198 243\n",
      "P07987_GUX2_TRIRE\n",
      "38 313 334\n",
      "P00750_UROT_HUMAN\n",
      "152 219 483\n",
      "P00749_UROK_HUMAN\n",
      "322\n",
      "P10761_ZP3_MOUSE\n",
      "146 273 304 327 330\n",
      "P22457_FA7_BOVIN\n",
      "185 243\n",
      "Q1E9Q9\n",
      "185 255 347 640 1326\n",
      "P05155_IC1_HUMAN\n",
      "25 69 81 238 253 352\n",
      "P13838_LEUK_RAT\n",
      "274 300\n",
      "P01589_IL2A_HUMAN\n",
      "70 89\n",
      "A4J5V5\n",
      "24 38 230\n",
      "P02974_FMM1_NEIGO\n",
      "67 68 121\n",
      "P80370_DLK_HUMAN\n",
      "100\n"
     ]
    }
   ],
   "source": [
    "find_a_protein_motif2(\"data/rosalind_mprt2.txt\")"
   ]
  },
  {
   "cell_type": "markdown",
   "metadata": {},
   "source": [
    "So this one should differ in the positions for `P02974_PMM1_NEIGO`: `68` has been added compared to the previous attempt.\n",
    "\n",
    "Now I feel I am ready for the challenge again. Let's do it!"
   ]
  },
  {
   "cell_type": "code",
   "execution_count": 27,
   "metadata": {},
   "outputs": [
    {
     "name": "stdout",
     "output_type": "stream",
     "text": [
      "Q8PV50\n",
      "188 195\n",
      "P01046_KNL1_BOVIN\n",
      "47 87 168 169 197 204\n",
      "P07585_PGS2_HUMAN\n",
      "211 262 303\n",
      "Q9LHF1\n",
      "3 4 60 94 106 289 340\n",
      "P22891_PRTZ_HUMAN\n",
      "99 225 233 306 332\n",
      "P08198_CSG_HALHA\n",
      "36 51 327 339 398 438 513 643 727 751 787 811 815\n",
      "P13838_LEUK_RAT\n",
      "274 300\n"
     ]
    }
   ],
   "source": [
    "find_a_protein_motif2(\"data/rosalind_mprt3.txt\")"
   ]
  },
  {
   "cell_type": "markdown",
   "metadata": {},
   "source": [
    "## Success!!\n",
    "\n",
    "I did it! Indeed the overlapping motifs were what I missed first and what has been fixed in this second version."
   ]
  }
 ],
 "metadata": {
  "kernelspec": {
   "display_name": "Python 3",
   "language": "python",
   "name": "python3"
  },
  "language_info": {
   "codemirror_mode": {
    "name": "ipython",
    "version": 3
   },
   "file_extension": ".py",
   "mimetype": "text/x-python",
   "name": "python",
   "nbconvert_exporter": "python",
   "pygments_lexer": "ipython3",
   "version": "3.8.1"
  }
 },
 "nbformat": 4,
 "nbformat_minor": 4
}
