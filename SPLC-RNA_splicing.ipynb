{
 "cells": [
  {
   "cell_type": "markdown",
   "metadata": {},
   "source": [
    "# RNA splicing, from [Rosalind.info](https://www.rosalind.info)\n",
    "\n",
    "(Specific exercise can be found at: rosalind.info/problems/splc/)\n",
    "\n",
    "## My interpretation\n",
    "\n",
    "1. The exercise is about splicing of mRNA molecules, and translation into amino acids\n",
    "\n",
    "2. The test provides a number of DNA sequences, the first of which is the sequence to be transcribed and translated. The sequences after that are introns, which are supposed to be spliced out.\n",
    "\n",
    "Therefore, I propose to develop a script that:\n",
    "\n",
    "1. Reads sequences from a fasta file,\n",
    "\n",
    "2. Saves the first sequence as 'gene',\n",
    "\n",
    "3. Any other sequences are stored as introns.\n",
    "\n",
    "4. Then, the introns need to be found and spliced out of the 'gene' sequence\n",
    "\n",
    "5. and the remaining sequence is to be translated into amino acids!\n",
    "\n",
    "(For step 5, I could insert a hand-made translation table, but it makes more sense to use Biopython's Seq objects to do the trick.)"
   ]
  },
  {
   "cell_type": "code",
   "execution_count": 1,
   "metadata": {},
   "outputs": [],
   "source": [
    "from Bio.Seq import Seq #for working with Seq objects and translating sequences\n",
    "from Bio import SeqIO #for reading fasta files\n",
    "from pathlib import Path #for working with files in general"
   ]
  },
  {
   "cell_type": "code",
   "execution_count": 2,
   "metadata": {},
   "outputs": [],
   "source": [
    "def extract_gene_and_introns_from_fasta(input_file):\n",
    "    \"\"\"\n",
    "Given an input file of fasta format,\n",
    "read it and save the first sequence as gene of interest,\n",
    "and any other sequences as introns.\n",
    "    \"\"\"\n",
    "    sequence_list = []\n",
    "    \n",
    "    for seq_record in SeqIO.parse(input_file, \"fasta\"):\n",
    "        sequence = seq_record.seq\n",
    "        #I will only need sequences for this exercise\n",
    "        #Otherwise, other features may be extracted from the\n",
    "        # seq_record here.\n",
    "    \n",
    "        sequence_list.append(sequence)\n",
    "\n",
    "    return sequence_list"
   ]
  },
  {
   "cell_type": "code",
   "execution_count": 3,
   "metadata": {},
   "outputs": [
    {
     "name": "stdout",
     "output_type": "stream",
     "text": [
      "[Seq('ATGGTCTACATAGCTGACAAACAGCACGTAGCAATCGGTCGAATCTCGAGAGGC...TAG', SingleLetterAlphabet()), Seq('ATCGGTCGAA', SingleLetterAlphabet()), Seq('ATCGGTCGAGCGTGT', SingleLetterAlphabet())]\n"
     ]
    }
   ],
   "source": [
    "test_file = Path(\"data/Example_RNA_splicing.fasta\")\n",
    "\n",
    "test_sequences = extract_gene_and_introns_from_fasta(test_file)\n",
    "\n",
    "print(test_sequences)"
   ]
  },
  {
   "cell_type": "markdown",
   "metadata": {},
   "source": [
    "So far so good. Reading the sequences and saving them in a list works.\n",
    "\n",
    "There is only one thing not entirely clear from the exercise: what if an intron sequence occurs multiple times in the gene? Should each copy be spliced? Or only the first?\n",
    "\n",
    "Let's for now assume any number of matching introns should be spliced out."
   ]
  },
  {
   "cell_type": "code",
   "execution_count": 10,
   "metadata": {},
   "outputs": [],
   "source": [
    "def splice_introns(gene, introns):\n",
    "    \"\"\"\n",
    "Given a gene sequence and intron sequences,\n",
    "extract the intron sequences from the gene and return\n",
    "the concatenated exons.\n",
    "    \"\"\"\n",
    "    gene = str(gene) #Using Python's string.replace() method makes splicing easier.\n",
    "    \n",
    "    for intron in introns:\n",
    "        gene = gene.replace(str(intron), \"\")\n",
    "        \n",
    "    return Seq(gene)"
   ]
  },
  {
   "cell_type": "code",
   "execution_count": 11,
   "metadata": {},
   "outputs": [
    {
     "name": "stdout",
     "output_type": "stream",
     "text": [
      "ATGGTCTACATAGCTGACAAACAGCACGTAGCATCTCGAGAGGCATATGGTCACATGTTCAAAGTTTGCGCCTAG\n"
     ]
    }
   ],
   "source": [
    "test_spliced_sequence = splice_introns(test_sequences[0],\n",
    "                                       test_sequences[1:])\n",
    "\n",
    "print(test_spliced_sequence)"
   ]
  },
  {
   "cell_type": "code",
   "execution_count": 12,
   "metadata": {},
   "outputs": [
    {
     "name": "stdout",
     "output_type": "stream",
     "text": [
      "MVYIADKQHVASREAYGHMFKVCA*\n"
     ]
    }
   ],
   "source": [
    "print(test_spliced_sequence.translate())"
   ]
  },
  {
   "cell_type": "markdown",
   "metadata": {},
   "source": [
    "The example on the website provides this protein sequence as solution:\n",
    "\n",
    "`MVYIADKQHVASREAYGHMFKVCA`\n",
    "\n",
    "So my answer is correct, but I should remove the stop codon (asterisk) from the final answer."
   ]
  },
  {
   "cell_type": "code",
   "execution_count": 14,
   "metadata": {},
   "outputs": [
    {
     "name": "stdout",
     "output_type": "stream",
     "text": [
      "MVYIADKQHVASREAYGHMFKVCA\n"
     ]
    }
   ],
   "source": [
    "print(test_spliced_sequence.translate().strip(\"*\"))"
   ]
  },
  {
   "cell_type": "markdown",
   "metadata": {},
   "source": [
    "Right, that should do the trick!\n",
    "\n",
    "Now let's jump right into the test:"
   ]
  },
  {
   "cell_type": "code",
   "execution_count": 16,
   "metadata": {},
   "outputs": [
    {
     "name": "stdout",
     "output_type": "stream",
     "text": [
      "MDRLYGGGITFYDLSVGNNRPNRMWTLEGTCTPVCIAEFPLWECQLAYQTPRSKYQRDGKEQSPRGAYLNINARAESVRRFDTAVRTEVIPPPHRYPGLICVEDRRPKNRSADAVYCYFQLRQVTVREFCGLYYFNFEAIIVQAKCCLSTLCKRATSWHSYLGRLPPTNGDKRRTPVGVAA\n"
     ]
    }
   ],
   "source": [
    "sequence_file = Path(\"data/rosalind_splc.txt\")\n",
    "\n",
    "sequence_list = extract_gene_and_introns_from_fasta(sequence_file)\n",
    "\n",
    "spliced_sequence = splice_introns(sequence_list[0],\n",
    "                                 sequence_list[1:])\n",
    "\n",
    "translated_exons = spliced_sequence.translate().strip(\"*\")\n",
    "\n",
    "print(translated_exons)"
   ]
  },
  {
   "cell_type": "markdown",
   "metadata": {},
   "source": [
    "## Success!!\n",
    "\n",
    "I solved the exercise. That went quick!"
   ]
  }
 ],
 "metadata": {
  "kernelspec": {
   "display_name": "Python 3",
   "language": "python",
   "name": "python3"
  },
  "language_info": {
   "codemirror_mode": {
    "name": "ipython",
    "version": 3
   },
   "file_extension": ".py",
   "mimetype": "text/x-python",
   "name": "python",
   "nbconvert_exporter": "python",
   "pygments_lexer": "ipython3",
   "version": "3.8.1"
  }
 },
 "nbformat": 4,
 "nbformat_minor": 4
}
