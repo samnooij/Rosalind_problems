{
 "cells": [
  {
   "cell_type": "markdown",
   "metadata": {},
   "source": [
    "# Mortal Fibonacci rabbits, from [rosalind.info](http://rosalind.info/)\n",
    "\n",
    "(text copied from http://rosalind.info/problems/fibd/)\n",
    "\n",
    "> **Problem**  \n",
    "> Recall the definition of the Fibonacci numbers from “Rabbits and Recurrence Relations”, which followed the recurrence relation Fn=Fn−1+Fn−2\n",
    "> and assumed that each pair of rabbits reaches maturity in one month and produces a single pair of offspring (one male, one female) each subsequent month.\n",
    ">\n",
    "> Our aim is to somehow modify this recurrence relation to achieve a dynamic programming solution in the case that all rabbits die out after a fixed number of months. See Figure 4 for a depiction of a rabbit tree in which rabbits live for three months (meaning that they reproduce only twice before dying).\n",
    ">\n",
    ">   **Given**: Positive integers n≤100 and m≤20\n",
    ">\n",
    ">   **Return**: The total number of pairs of rabbits that will remain after the n-th month if all rabbits live for m months.\n",
    ">\n",
    "> Sample Dataset\n",
    ">\n",
    "> `6 3`\n",
    ">\n",
    "> Sample Output\n",
    ">\n",
    "> `4`\n",
    "\n",
    "[Figure 4: visualisation of the example numbers](http://rosalind.info/media/problems/fibd/mortal_rabbit_tree.png)"
   ]
  },
  {
   "cell_type": "markdown",
   "metadata": {},
   "source": [
    "## My interpretation/reasoning\n",
    "\n",
    "1. The _input_ will be a number `n` (number of months the 'experiment' lasts), and a number `m` (number of months after which a rabbit dies).\n",
    "\n",
    "2. You start with one pair of rabbits.\n",
    "\n",
    "3. The rabbits mature after a month, produce offspring, live another month, producing offspring again, and then they die.\n",
    "  - Each rabbit pair can produce two pairs of offspring. \n",
    "  - Rabbits in this model have three (3) life stages: juvenile, adult 1 and adult 2. Both adult stages produce offspring. Adult 2 dies after doing so.\n",
    "  - Note that the number of life stages is equal to `m`!\n",
    "  \n",
    "Let's try a bit of code:"
   ]
  },
  {
   "cell_type": "code",
   "execution_count": 6,
   "metadata": {},
   "outputs": [
    {
     "name": "stdout",
     "output_type": "stream",
     "text": [
      "From file data/Example_mortal_Fibonacci_rabbits.txt I have read the following data:\n",
      "n = 6\tm = 3\n",
      "\n",
      "It is now month: 0\n",
      "It is now month: 1\n",
      "It is now month: 2\n",
      "It is now month: 3\n",
      "It is now month: 4\n",
      "It is now month: 5\n",
      "\n",
      "---\n",
      "Finally, after 6 months, we end up with 1 rabbits\n"
     ]
    }
   ],
   "source": [
    "testing = True #Am I just testing?\n",
    "\n",
    "# Step 1: Load the input data\n",
    "\n",
    "if testing:\n",
    "    #If testing, use my own example file\n",
    "    input_file = \"data/Example_mortal_Fibonacci_rabbits.txt\"\n",
    "else:\n",
    "    #Or else, use the real exercise file\n",
    "    input_file = \"data/Mortal_Fibonacci_rabbits.txt\"\n",
    "\n",
    "with open(input_file, 'r') as infile:\n",
    "    #Read the data from the file\n",
    "    input_data = infile.readline()\n",
    "    \n",
    "#And extract the required parameters\n",
    "n = int(input_data.split()[0])\n",
    "m = int(input_data.split()[1])\n",
    "\n",
    "print(\"From file %s I have read the following data:\" % input_file)\n",
    "print(\"n = %s\\tm = %s\\n\" % (n, m))\n",
    "\n",
    "# Step 2: Specify the model\n",
    "\n",
    "life_stages = range(1,m+1) #for easier reading: use 1-based counting\n",
    "\n",
    "start_population = 1 #we start with one pair\n",
    "\n",
    "rabbit_dict = {1: start_population} #in life_stage 1 there is now 1 rabbit pair\n",
    "\n",
    "for month in range(n):\n",
    "    print(\"It is now month: %i\" % month)\n",
    "    #Three things happen each month:\n",
    "    # 1. rabbits in life stages > 1 reproduce\n",
    "    # 2. rabbits in the last life stage (m) die\n",
    "    # 3. all remaining rabbits move to the next stage\n",
    "    pass\n",
    "\n",
    "print(\"\\n---\\nFinally, after %i months, we end up with %i rabbits\" % (n, sum(rabbit_dict.values())))"
   ]
  }
 ],
 "metadata": {
  "kernelspec": {
   "display_name": "Python 3",
   "language": "python",
   "name": "python3"
  },
  "language_info": {
   "codemirror_mode": {
    "name": "ipython",
    "version": 3
   },
   "file_extension": ".py",
   "mimetype": "text/x-python",
   "name": "python",
   "nbconvert_exporter": "python",
   "pygments_lexer": "ipython3",
   "version": "3.7.3"
  }
 },
 "nbformat": 4,
 "nbformat_minor": 2
}
