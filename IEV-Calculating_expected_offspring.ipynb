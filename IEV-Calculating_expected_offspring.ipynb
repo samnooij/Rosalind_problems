{
 "cells": [
  {
   "cell_type": "markdown",
   "metadata": {},
   "source": [
    "# Calculating expected offspring, from [rosalind.info](http://rosalind.info/)\n",
    "\n",
    "(text copied from http://rosalind.info/problems/iev/)\n",
    "\n",
    "> **Problem**  \n",
    "> For a random variable $X$ taking integer values between 1 and $n$, the expected value of $X$ is\n",
    "> $E(X) = \\sum_{k=1}^{n}k×Pr(X=k)$.\n",
    "> The expected value offers us a way of taking the long-term average of a random variable over a large number of trials.\n",
    ">\n",
    "> As a motivating example, let $X$ be the number on a six-sided die.\n",
    "> Over a large number of rolls, we should expect to obtain an average of 3.5 on the die (even though it's not possible to roll a 3.5).\n",
    "> The formula for expected value confirms that\n",
    "> $E(X) = \\sum_{k=1}^{6}k×Pr(X=k)=3.5$.\n",
    ">\n",
    "> More generally, a random variable for which every one of a number of equally spaced outcomes has the same probability is called a uniform random variable (in the die example, this \"equal spacing\" is equal to 1).\n",
    "> We can generalize our die example to find that if $X$ is a uniform random variable with minimum possible value $a$ and maximum possible value $b$, then\n",
    "> $E(X) = \\frac{a+b}{2}$ \n",
    "> You may also wish to verify that for the dice example, if $Y$ is the random variable associated with the outcome of a second die roll, then\n",
    "> $E(X+Y)=7$.\n",
    ">\n",
    "> **Given**: Six nonnegative integers, each of which does not exceed 20,000.\n",
    "> The integers correspond to the number of couples in a population possessing each genotype pairing for a given factor.\n",
    "> In order, the six given integers represent the number of couples having the following genotypes:\n",
    ">\n",
    "> 1. `AA-AA`  \n",
    "> 2. `AA-Aa`  \n",
    "> 3. `AA-aa`  \n",
    "> 4. `Aa-Aa`  \n",
    "> 5. `Aa-aa`  \n",
    "> 6. `aa-aa`\n",
    ">\n",
    "> **Return**: The expected number of offspring displaying the dominant phenotype in the next generation, \n",
    "> under the assumption that every couple has exactly two offspring.\n",
    ">\n",
    "> **Sample Dataset**\n",
    ">\n",
    "> `1 0 0 1 0 1`\n",
    ">\n",
    "> **Sample Output**\n",
    "> `3.5`"
   ]
  },
  {
   "cell_type": "markdown",
   "metadata": {},
   "source": [
    "## My interpretation/reasoning\n",
    "\n",
    "1. I am going to calculate an expected value.\n",
    "\n",
    "2. The calculation is a genetics exercise, involving allele frequencies.\n",
    "\n",
    "3. The given numbers represent pairs of different genotypes: combinations of\n",
    "    - Homozygous dominant\n",
    "    - Homozygous recessive\n",
    "    - Heterozygous\n",
    "\n",
    "4. The answer should be the number of offspring with the dominant phenotype.\n",
    "\n",
    "5. Offspring with a dominant phenotype should have at least one dominant allele.\n",
    "\n",
    "6. Chances of getting a dominant allele differ per parent combination:\n",
    "    1. 1 (offspring always gets a dominant allele)\n",
    "    2. 1\n",
    "    3. 1\n",
    "    4. $0.5 + 0.5 * 0.5 = 0.75 (0.5 chance to get a dominant allele from parent 1, otherwise (other 0.5) it might get a dominant allele from parent 2 with a 0.5 chance)\n",
    "    5. 0.5 (it either gets the dominant allele from parent 1 or not)\n",
    "    6. 0 (no dominant alleles, no chance of getting one)\n",
    "    \n",
    "    **Note: these chances are per offspring, and each parent pair is expected to have _two_ offspring!**\n",
    "\n",
    "7. Now all these chances need to be connected to their respective positions for the script to work.\n",
    "\n",
    "Now practically, this means the code is to:\n",
    "\n",
    "  - Open and read a text file with 6 space-separated positive integers or zero (0-20,000)\n",
    "  - These integers should be multiplied by their respective chance to produce offspring with a dominant allele (see point 6 above)\n",
    "  - Those numbers should be summed and returned as answer."
   ]
  },
  {
   "cell_type": "code",
   "execution_count": 1,
   "metadata": {},
   "outputs": [],
   "source": [
    "def calculate_expected_offspring(numbers, offspring=2):\n",
    "    \"\"\"\n",
    "Given a list of six positive integers and the number of offspring per pair (default=2),\n",
    "calculate the expected number of offspring with a dominant allele.\n",
    "    \"\"\"\n",
    "    dominant_offspring_likelihood = {\n",
    "        1: 1 * offspring,\n",
    "        2: 1 * offspring,\n",
    "        3: 1 * offspring,\n",
    "        4: 0.75 * offspring,\n",
    "        5: 0.5 * offspring,\n",
    "        6: 0 * offspring\n",
    "    }\n",
    "    \n",
    "    #For each position in the list of 6 numbers (index 0-5),\n",
    "    # multiply the number of pairs by the chance of producing\n",
    "    # offspring with a dominant phenotype given the number\n",
    "    # of offspring each pair produces.\n",
    "    dominant_offspring = (\n",
    "    numbers[0] * dominant_offspring_likelihood[1] +\n",
    "    numbers[1] * dominant_offspring_likelihood[2] +\n",
    "    numbers[2] * dominant_offspring_likelihood[3] +\n",
    "    numbers[3] * dominant_offspring_likelihood[4] +\n",
    "    numbers[4] * dominant_offspring_likelihood[5] +\n",
    "    numbers[5] * dominant_offspring_likelihood[6])\n",
    "    \n",
    "    return(dominant_offspring)"
   ]
  },
  {
   "cell_type": "code",
   "execution_count": 2,
   "metadata": {},
   "outputs": [
    {
     "data": {
      "text/plain": [
       "3.5"
      ]
     },
     "execution_count": 2,
     "metadata": {},
     "output_type": "execute_result"
    }
   ],
   "source": [
    "calculate_expected_offspring([1, 0, 0, 1, 0, 1])"
   ]
  },
  {
   "cell_type": "markdown",
   "metadata": {},
   "source": [
    "So far so good. Now add a function that reads numbers from a file and checks if there are six numbers between 1 and 20,000."
   ]
  },
  {
   "cell_type": "code",
   "execution_count": 3,
   "metadata": {},
   "outputs": [],
   "source": [
    "def read_numbers(input_file):\n",
    "    \"\"\"\n",
    "Read a file with six numbers, \n",
    "turn into a list and\n",
    "confirm the length of 6.\n",
    "Also check that no number exceeds 20,000.\n",
    "    \"\"\"\n",
    "    with open(input_file, 'r') as read_file:\n",
    "        for line in read_file:\n",
    "            numbers_list = line.split()\n",
    "            \n",
    "    numbers_list = list(map(int, numbers_list))\n",
    "            \n",
    "    if len(numbers_list) != 6:\n",
    "        print(\"Error, list is not length 6: %i\" % len(numbers_list))\n",
    "        return(None)\n",
    "    else:\n",
    "        pass\n",
    "    \n",
    "    for number in numbers_list:\n",
    "        if number < 0 or number > 20000:\n",
    "            print(\"Error! List contains a number out of range 0-20,000: %i\" % number)\n",
    "            return(None)\n",
    "        else:\n",
    "            pass\n",
    "        \n",
    "    return(numbers_list)"
   ]
  },
  {
   "cell_type": "code",
   "execution_count": 4,
   "metadata": {},
   "outputs": [
    {
     "data": {
      "text/plain": [
       "[1, 0, 0, 1, 0, 1]"
      ]
     },
     "execution_count": 4,
     "metadata": {},
     "output_type": "execute_result"
    }
   ],
   "source": [
    "read_numbers(\"data/Example_calculating_expected_offspring.txt\")"
   ]
  },
  {
   "cell_type": "code",
   "execution_count": 5,
   "metadata": {},
   "outputs": [
    {
     "data": {
      "text/plain": [
       "3.5"
      ]
     },
     "execution_count": 5,
     "metadata": {},
     "output_type": "execute_result"
    }
   ],
   "source": [
    "test_list = read_numbers(\"data/Example_calculating_expected_offspring.txt\")\n",
    "\n",
    "calculate_expected_offspring(test_list)"
   ]
  },
  {
   "cell_type": "markdown",
   "metadata": {},
   "source": [
    "Now this works too. Let's see what the function does with different numbers."
   ]
  },
  {
   "cell_type": "code",
   "execution_count": 6,
   "metadata": {},
   "outputs": [
    {
     "data": {
      "text/plain": [
       "22132.5"
      ]
     },
     "execution_count": 6,
     "metadata": {},
     "output_type": "execute_result"
    }
   ],
   "source": [
    "calculate_expected_offspring([10, 500, 3000, 75, 15000, 938])"
   ]
  },
  {
   "cell_type": "markdown",
   "metadata": {},
   "source": [
    "As long as you provide exactly six numbers, it seems to be fine. The list check is only in the file reader, so catching errors works only when working with files. Anyway, this script seems to work.  Let's go download the dataset and solve this problem!"
   ]
  },
  {
   "cell_type": "code",
   "execution_count": 7,
   "metadata": {},
   "outputs": [
    {
     "data": {
      "text/plain": [
       "147366.0"
      ]
     },
     "execution_count": 7,
     "metadata": {},
     "output_type": "execute_result"
    }
   ],
   "source": [
    "numbers_list = read_numbers(\"data/rosalind_iev.txt\")\n",
    "\n",
    "calculate_expected_offspring(numbers_list)"
   ]
  },
  {
   "cell_type": "markdown",
   "metadata": {},
   "source": [
    "## Success!!\n",
    "\n",
    "I solved the problem. Now let's save this notebook and commit it to git."
   ]
  }
 ],
 "metadata": {
  "kernelspec": {
   "display_name": "Python 3",
   "language": "python",
   "name": "python3"
  },
  "language_info": {
   "codemirror_mode": {
    "name": "ipython",
    "version": 3
   },
   "file_extension": ".py",
   "mimetype": "text/x-python",
   "name": "python",
   "nbconvert_exporter": "python",
   "pygments_lexer": "ipython3",
   "version": "3.8.1"
  }
 },
 "nbformat": 4,
 "nbformat_minor": 4
}
