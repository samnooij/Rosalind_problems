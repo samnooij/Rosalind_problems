{
 "cells": [
  {
   "cell_type": "markdown",
   "metadata": {},
   "source": [
    "# Enumerating k-mers lexicographically, from [Rosalind.info](https://www.rosalind.info)\n",
    "\n",
    "(Specific exercise at: http://rosalind.info/problems/lexf/)\n",
    "\n",
    "This exercise sounds very much like one I've done earlier: \n",
    "Enumerating gene orders (PERM).\n",
    "\n",
    "It seems like the only  differences are:\n",
    "\n",
    "  - the other exercise used numbers, this one uses _letters_\n",
    "  - the other exercise required the number of possible combinations with the answer, this exercise wants _only the combinations_\n",
    "    \n",
    "So now I should be able to do basically the same thing as in [PERM](PERM-Enumerating_gene_orders.ipynb)."
   ]
  },
  {
   "cell_type": "code",
   "execution_count": 1,
   "metadata": {},
   "outputs": [],
   "source": [
    "import itertools #this library is going to do all the heavy lifting"
   ]
  },
  {
   "cell_type": "code",
   "execution_count": 2,
   "metadata": {},
   "outputs": [],
   "source": [
    "def read_alphabet_and_length(input_file):\n",
    "    \"\"\"\n",
    "Given a path to a text file with space-separated letters on the first line,\n",
    "and a number on the second line,\n",
    "return the 'alphabet' as list and the number as 'length'.\n",
    "    \"\"\"\n",
    "    first_line = True #use a trick to separate the first and second line\n",
    "    \n",
    "    with open(input_file, \"r\") as read_file:\n",
    "        for line in read_file:\n",
    "            if first_line:\n",
    "                alphabet = line.split()\n",
    "                first_line = False\n",
    "            else:\n",
    "                length = int(line.strip())\n",
    "                \n",
    "    return alphabet, length"
   ]
  },
  {
   "cell_type": "code",
   "execution_count": 3,
   "metadata": {},
   "outputs": [
    {
     "name": "stdout",
     "output_type": "stream",
     "text": [
      "Example alphabet: ['A', 'C', 'G', 'T']\n",
      "Example length: 2\n"
     ]
    }
   ],
   "source": [
    "example_file = \"data/Example_enumerating_k-mers_lexicographically.txt\"\n",
    "\n",
    "(example_alphabet, example_length) = read_alphabet_and_length(example_file)\n",
    "\n",
    "print(\"Example alphabet: %s\\nExample length: %i\" %(\n",
    "example_alphabet, example_length)\n",
    "     )"
   ]
  },
  {
   "cell_type": "markdown",
   "metadata": {},
   "source": [
    "Alright, that works. Now let's see if I can uses the `itertools.permutations()` function to make some combinations."
   ]
  },
  {
   "cell_type": "code",
   "execution_count": 7,
   "metadata": {},
   "outputs": [
    {
     "name": "stdout",
     "output_type": "stream",
     "text": [
      "[('A', 'C'), ('A', 'G'), ('A', 'T'), ('C', 'A'), ('C', 'G'), ('C', 'T'), ('G', 'A'), ('G', 'C'), ('G', 'T'), ('T', 'A'), ('T', 'C'), ('T', 'G')]\n"
     ]
    }
   ],
   "source": [
    "print(list(itertools.permutations(example_alphabet, example_length)))"
   ]
  },
  {
   "cell_type": "markdown",
   "metadata": {},
   "source": [
    "Right, that seems fine. Now I need to convert this list of tuples into separate lines of strings..."
   ]
  },
  {
   "cell_type": "code",
   "execution_count": 8,
   "metadata": {},
   "outputs": [
    {
     "name": "stdout",
     "output_type": "stream",
     "text": [
      "AC\n",
      "AG\n",
      "AT\n",
      "CA\n",
      "CG\n",
      "CT\n",
      "GA\n",
      "GC\n",
      "GT\n",
      "TA\n",
      "TC\n",
      "TG\n"
     ]
    }
   ],
   "source": [
    "for letter_combination in list(itertools.permutations(example_alphabet, example_length)):\n",
    "    print(\"\".join(list(letter_combination)))"
   ]
  },
  {
   "cell_type": "markdown",
   "metadata": {},
   "source": [
    "And with that I'm practically done, right?\n",
    "\n",
    "Hold on..., this exercise is again not entirely clear about how the output should be ordered...\n",
    "\n",
    "First it says the provided 'alphabet' will be ordered (which implies it may be any hypothetical order).  \n",
    "Then it says the output should be ordered alphabetically?\n",
    "\n",
    "I will for now just go with whatever is provided and see how that works out..."
   ]
  },
  {
   "cell_type": "code",
   "execution_count": 9,
   "metadata": {},
   "outputs": [
    {
     "name": "stdout",
     "output_type": "stream",
     "text": [
      "ABCD\n",
      "ABDC\n",
      "ACBD\n",
      "ACDB\n",
      "ADBC\n",
      "ADCB\n",
      "BACD\n",
      "BADC\n",
      "BCAD\n",
      "BCDA\n",
      "BDAC\n",
      "BDCA\n",
      "CABD\n",
      "CADB\n",
      "CBAD\n",
      "CBDA\n",
      "CDAB\n",
      "CDBA\n",
      "DABC\n",
      "DACB\n",
      "DBAC\n",
      "DBCA\n",
      "DCAB\n",
      "DCBA\n"
     ]
    }
   ],
   "source": [
    "test_file = \"data/rosalind_lexf.txt\"\n",
    "\n",
    "(test_alphabet, test_length) = read_alphabet_and_length(test_file)\n",
    "\n",
    "for string in list(itertools.permutations(test_alphabet, test_length)):\n",
    "    print(\"\".join(list(string)))"
   ]
  },
  {
   "cell_type": "markdown",
   "metadata": {},
   "source": [
    "Hm... So this was wrong.\n",
    "\n",
    "Let's check what the input was:"
   ]
  },
  {
   "cell_type": "code",
   "execution_count": 10,
   "metadata": {},
   "outputs": [
    {
     "name": "stdout",
     "output_type": "stream",
     "text": [
      "Test alphabet: ['A', 'B', 'C', 'D']\n",
      "Test length: 4\n"
     ]
    }
   ],
   "source": [
    "print(\"Test alphabet: %s\\nTest length: %i\" %(\n",
    "test_alphabet, test_length)\n",
    "     )"
   ]
  },
  {
   "cell_type": "markdown",
   "metadata": {},
   "source": [
    "That looks right... What may have gone wrong then?\n",
    "\n",
    "Oh yes, I see now that my example went wrong too. The answer I got is too short.  \n",
    "I miss all the repeats! Now how can I include those, too...?"
   ]
  },
  {
   "cell_type": "code",
   "execution_count": 13,
   "metadata": {},
   "outputs": [
    {
     "name": "stdout",
     "output_type": "stream",
     "text": [
      "AAAA\n",
      "AAAB\n",
      "AAAC\n",
      "AAAD\n",
      "AABB\n",
      "AABC\n",
      "AABD\n",
      "AACC\n",
      "AACD\n",
      "AADD\n",
      "ABBB\n",
      "ABBC\n",
      "ABBD\n",
      "ABCC\n",
      "ABCD\n",
      "ABDD\n",
      "ACCC\n",
      "ACCD\n",
      "ACDD\n",
      "ADDD\n",
      "BBBB\n",
      "BBBC\n",
      "BBBD\n",
      "BBCC\n",
      "BBCD\n",
      "BBDD\n",
      "BCCC\n",
      "BCCD\n",
      "BCDD\n",
      "BDDD\n",
      "CCCC\n",
      "CCCD\n",
      "CCDD\n",
      "CDDD\n",
      "DDDD\n"
     ]
    }
   ],
   "source": [
    "for string in list(itertools.combinations_with_replacement(test_alphabet, test_length)):\n",
    "    print(\"\".join(list(string)))"
   ]
  },
  {
   "cell_type": "markdown",
   "metadata": {},
   "source": [
    "So I used the wrong function, this one looks more like it!\n",
    "\n",
    "Let's try the exercise again."
   ]
  },
  {
   "cell_type": "code",
   "execution_count": 14,
   "metadata": {},
   "outputs": [
    {
     "name": "stdout",
     "output_type": "stream",
     "text": [
      "AA\n",
      "AB\n",
      "AC\n",
      "AD\n",
      "AE\n",
      "AF\n",
      "AG\n",
      "AH\n",
      "AI\n",
      "AJ\n",
      "BB\n",
      "BC\n",
      "BD\n",
      "BE\n",
      "BF\n",
      "BG\n",
      "BH\n",
      "BI\n",
      "BJ\n",
      "CC\n",
      "CD\n",
      "CE\n",
      "CF\n",
      "CG\n",
      "CH\n",
      "CI\n",
      "CJ\n",
      "DD\n",
      "DE\n",
      "DF\n",
      "DG\n",
      "DH\n",
      "DI\n",
      "DJ\n",
      "EE\n",
      "EF\n",
      "EG\n",
      "EH\n",
      "EI\n",
      "EJ\n",
      "FF\n",
      "FG\n",
      "FH\n",
      "FI\n",
      "FJ\n",
      "GG\n",
      "GH\n",
      "GI\n",
      "GJ\n",
      "HH\n",
      "HI\n",
      "HJ\n",
      "II\n",
      "IJ\n",
      "JJ\n"
     ]
    }
   ],
   "source": [
    "second_test_file = \"data/rosalind_lexf2.txt\"\n",
    "\n",
    "(second_test_alphabet, second_test_length) = read_alphabet_and_length(second_test_file)\n",
    "\n",
    "for string in list(itertools.combinations_with_replacement(\n",
    "    second_test_alphabet, second_test_length)):\n",
    "    print(\"\".join(list(string)))"
   ]
  },
  {
   "cell_type": "markdown",
   "metadata": {},
   "source": [
    "Oh. This is still wrong.\n",
    "\n",
    "I thought this would be easy, but it turns out a bit more complicated..."
   ]
  },
  {
   "cell_type": "code",
   "execution_count": 15,
   "metadata": {},
   "outputs": [
    {
     "name": "stdout",
     "output_type": "stream",
     "text": [
      "Second test alphabet: ['A', 'B', 'C', 'D', 'E', 'F', 'G', 'H', 'I', 'J']\n",
      "Second test length: 2\n"
     ]
    }
   ],
   "source": [
    "print(\"Second test alphabet: %s\\nSecond test length: %i\" %(\n",
    "second_test_alphabet, second_test_length)\n",
    "     )"
   ]
  },
  {
   "cell_type": "markdown",
   "metadata": {},
   "source": [
    "Oh, I see... When the 'A' has been used, it is no longer used in combinations with 'B', and so on.\n",
    "\n",
    "So I need even more repeats than this function does by default.\n",
    "\n",
    "(Check [this page](https://docs.python.org/3/library/itertools.html#itertools.combinations_with_replacement) for more info on the functions I tried so far.\n",
    "\n",
    "I will get back to this exercise and try it again later."
   ]
  }
 ],
 "metadata": {
  "kernelspec": {
   "display_name": "Python 3",
   "language": "python",
   "name": "python3"
  },
  "language_info": {
   "codemirror_mode": {
    "name": "ipython",
    "version": 3
   },
   "file_extension": ".py",
   "mimetype": "text/x-python",
   "name": "python",
   "nbconvert_exporter": "python",
   "pygments_lexer": "ipython3",
   "version": "3.8.1"
  }
 },
 "nbformat": 4,
 "nbformat_minor": 4
}
